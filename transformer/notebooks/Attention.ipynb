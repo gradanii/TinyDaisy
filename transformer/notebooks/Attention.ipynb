{
 "cells": [
  {
   "cell_type": "code",
   "execution_count": 1,
   "id": "514f0eee-0c5f-4a35-8920-53c6c70bd286",
   "metadata": {},
   "outputs": [],
   "source": [
    "import sys\n",
    "import os\n",
    "import numpy as np\n",
    "\n",
    "sys.path.append(os.path.abspath(\"..\"))\n",
    "\n",
    "from transformer_np.embeddings import embeddings"
   ]
  },
  {
   "cell_type": "code",
   "execution_count": 40,
   "id": "a053b181-55eb-4c3d-99cb-884ac0b8730a",
   "metadata": {},
   "outputs": [
    {
     "name": "stderr",
     "output_type": "stream",
     "text": [
      "/var/folders/n1/57h339gs5nv64npf4zbyx7100000gn/T/ipykernel_4674/1231821191.py:9: RuntimeWarning: divide by zero encountered in matmul\n",
      "  x_2 @ weight_matrix\n",
      "/var/folders/n1/57h339gs5nv64npf4zbyx7100000gn/T/ipykernel_4674/1231821191.py:9: RuntimeWarning: overflow encountered in matmul\n",
      "  x_2 @ weight_matrix\n",
      "/var/folders/n1/57h339gs5nv64npf4zbyx7100000gn/T/ipykernel_4674/1231821191.py:9: RuntimeWarning: invalid value encountered in matmul\n",
      "  x_2 @ weight_matrix\n"
     ]
    },
    {
     "data": {
      "text/plain": [
       "array([  2.8552185 ,  11.69454263,  30.13974634,   1.8465445 ,\n",
       "        14.83916996, -10.01993551,  -4.34610696,  41.42533277,\n",
       "       -19.08800725,  18.02362853,  11.94447578, -12.1799455 ,\n",
       "        17.01071028, -15.14068232, -20.2468541 ,  10.21512784,\n",
       "       -17.14744126,  18.02716312, -32.65976374,  23.25017868,\n",
       "       -17.44269756,   6.14445375,   8.9779467 ,  29.63258858,\n",
       "         0.20856444, -23.83451829, -32.68789564,   4.9352557 ,\n",
       "       -12.16569693,  -5.1169375 ,  13.3928464 , -32.97016654])"
      ]
     },
     "execution_count": 40,
     "metadata": {},
     "output_type": "execute_result"
    }
   ],
   "source": [
    "weight_matrix = np.random.randn(256, 32)\n",
    "\n",
    "embed = embeddings()\n",
    "embedding = embed.forward(\"apple\")\n",
    "\n",
    "# Testing for second input element\n",
    "x_2 = embedding[1]\n",
    "\n",
    "x_2 @ weight_matrix"
   ]
  },
  {
   "cell_type": "code",
   "execution_count": 10,
   "id": "3d04d362",
   "metadata": {},
   "outputs": [
    {
     "name": "stdout",
     "output_type": "stream",
     "text": [
      "{'Life': 0, 'dessert': 1, 'eat': 2, 'first': 3, 'is': 4, 'short': 5}\n"
     ]
    }
   ],
   "source": [
    "sentence = 'Life is short, eat dessert first'\n",
    "\n",
    "dc = {s:i for i,s in enumerate(sorted(sentence.replace(',', '').split()))}\n",
    "print(dc)"
   ]
  },
  {
   "cell_type": "code",
   "execution_count": 18,
   "id": "b2804423",
   "metadata": {},
   "outputs": [
    {
     "name": "stdout",
     "output_type": "stream",
     "text": [
      "[0 4 5 2 1 3]\n"
     ]
    }
   ],
   "source": [
    "import torch\n",
    "\n",
    "sentence_int = np.array([dc[s] for s in sentence.replace(',', '').split()])\n",
    "print(sentence_int)"
   ]
  },
  {
   "cell_type": "code",
   "execution_count": 20,
   "id": "12329688",
   "metadata": {},
   "outputs": [
    {
     "name": "stdout",
     "output_type": "stream",
     "text": [
      "[[ 1.98862483 -0.64985806  0.70894444 -0.09406055 -0.00371657  1.33885846\n",
      "   0.61986643  1.12509963  0.90443893 -0.40043215 -1.40934947 -0.9340959\n",
      "   0.56965666 -1.08524316  0.50323307 -1.49227241]\n",
      " [ 0.67137934  0.59327119 -0.41738283 -0.94286622 -0.1331966  -0.95425499\n",
      "   0.22034471 -1.05212259 -0.57481496  1.71849325 -0.51349639 -0.26383411\n",
      "   1.01689616 -1.52596297  0.98810485  1.45399701]\n",
      " [ 1.47855447 -0.13023799  1.82787737  0.64618946  0.26801426 -0.08927201\n",
      "  -0.31110109 -1.61752474  0.82117021 -0.2989468  -0.49182297 -2.41563895\n",
      "  -0.56095372  1.15682392  1.15744173 -1.4128775 ]\n",
      " [ 1.2065718  -0.51606106  0.68265923  0.77758787 -0.74931202  0.94030628\n",
      "  -0.00813048 -1.0615243  -1.73295788 -0.69560792  0.79780643  0.03965172\n",
      "  -1.62868078  0.97358102  1.46680234 -0.46225468]\n",
      " [ 0.47220377 -0.79750764 -0.2615496  -1.20193459  1.4623369   0.30608417\n",
      "  -0.16204339  0.84389948 -0.91746053  0.89472122  1.49821408 -0.24721677\n",
      "  -0.41067363 -0.14527275 -0.12724483  0.44814097]\n",
      " [-1.40790199 -0.06404187 -2.01750497 -0.77451382  0.36368354 -0.4261691\n",
      "  -0.46184335 -1.55050905 -0.84351154 -0.90133192  0.01900044 -1.18164174\n",
      "   0.05229696 -1.43986768 -0.10918505  0.69779466]]\n",
      "(6, 16)\n"
     ]
    }
   ],
   "source": [
    "torch.manual_seed(123)\n",
    "embed = np.random.randn(6, 16)\n",
    "embedded_sentence = embed[sentence_int]\n",
    "\n",
    "print(embedded_sentence)\n",
    "print(embedded_sentence.shape)"
   ]
  },
  {
   "cell_type": "code",
   "execution_count": 25,
   "id": "0c1e8d6f",
   "metadata": {},
   "outputs": [
    {
     "data": {
      "text/plain": [
       "16"
      ]
     },
     "execution_count": 25,
     "metadata": {},
     "output_type": "execute_result"
    }
   ],
   "source": [
    "torch.manual_seed(123)\n",
    "\n",
    "d = embedded_sentence.shape[1]\n",
    "\n",
    "d_q, d_k, d_v = 24, 24, 28\n",
    "\n",
    "W_query = np.random.randn(d_q, d)\n",
    "W_key = np.random.randn(d_k, d)\n",
    "W_value = np.random.randn(d_v, d)\n",
    "\n",
    "d"
   ]
  },
  {
   "cell_type": "code",
   "execution_count": 33,
   "id": "0a8a3dc3",
   "metadata": {},
   "outputs": [
    {
     "name": "stdout",
     "output_type": "stream",
     "text": [
      "(6, 16)\n",
      "(16,)\n",
      "(24, 16)\n",
      "(24,)\n"
     ]
    }
   ],
   "source": [
    "x_2 = embedded_sentence[1]\n",
    "query_2 = np.matmul(W_query, x_2)\n",
    "\n",
    "print(embedded_sentence.shape)\n",
    "print(x_2.shape)\n",
    "print(W_query.shape)\n",
    "print(query_2.shape)"
   ]
  },
  {
   "cell_type": "code",
   "execution_count": 24,
   "id": "89f6f31b",
   "metadata": {},
   "outputs": [
    {
     "data": {
      "text/plain": [
       "(16,)"
      ]
     },
     "execution_count": 24,
     "metadata": {},
     "output_type": "execute_result"
    }
   ],
   "source": [
    "x_2.shape"
   ]
  },
  {
   "cell_type": "code",
   "execution_count": null,
   "id": "af53eda5",
   "metadata": {},
   "outputs": [],
   "source": []
  }
 ],
 "metadata": {
  "kernelspec": {
   "display_name": "venv",
   "language": "python",
   "name": "python3"
  },
  "language_info": {
   "codemirror_mode": {
    "name": "ipython",
    "version": 3
   },
   "file_extension": ".py",
   "mimetype": "text/x-python",
   "name": "python",
   "nbconvert_exporter": "python",
   "pygments_lexer": "ipython3",
   "version": "3.13.3"
  }
 },
 "nbformat": 4,
 "nbformat_minor": 5
}
