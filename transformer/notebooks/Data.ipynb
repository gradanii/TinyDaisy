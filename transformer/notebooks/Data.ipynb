{
 "cells": [
  {
   "cell_type": "code",
   "execution_count": 4,
   "id": "7584b57f-4e15-4cd2-8185-cbe0d5925a21",
   "metadata": {},
   "outputs": [],
   "source": [
    "import sys\n",
    "import os\n",
    "\n",
    "sys.path.append(os.path.abspath(\"..\"))\n",
    "\n",
    "from tokenizer.tokenizer import BPETokenizer"
   ]
  },
  {
   "cell_type": "code",
   "execution_count": 5,
   "id": "4304acc0-a7c8-4ac0-8fbc-e01eba19f283",
   "metadata": {},
   "outputs": [
    {
     "name": "stdout",
     "output_type": "stream",
     "text": [
      "--2025-04-14 23:53:41--  https://raw.githubusercontent.com/karpathy/char-rnn/refs/heads/master/data/tinyshakespeare/input.txt\n",
      "Resolving raw.githubusercontent.com (raw.githubusercontent.com)... 2606:50c0:8000::154, 2606:50c0:8001::154, 2606:50c0:8002::154, ...\n",
      "Connecting to raw.githubusercontent.com (raw.githubusercontent.com)|2606:50c0:8000::154|:443... connected.\n",
      "HTTP request sent, awaiting response... 200 OK\n",
      "Length: 1115394 (1.1M) [text/plain]\n",
      "Saving to: ‘input.txt’\n",
      "\n",
      "input.txt           100%[===================>]   1.06M  6.93MB/s    in 0.2s    \n",
      "\n",
      "2025-04-14 23:53:42 (6.93 MB/s) - ‘input.txt’ saved [1115394/1115394]\n",
      "\n"
     ]
    }
   ],
   "source": [
    "!wget https://raw.githubusercontent.com/karpathy/char-rnn/refs/heads/master/data/tinyshakespeare/input.txt"
   ]
  },
  {
   "cell_type": "code",
   "execution_count": 6,
   "id": "51ff11f3-cc54-4de1-a706-5fe0b2614adf",
   "metadata": {},
   "outputs": [],
   "source": [
    "with open('input.txt', 'r', encoding='utf-8') as data:\n",
    "    text = data.read()"
   ]
  },
  {
   "cell_type": "code",
   "execution_count": 7,
   "id": "553565cf-8028-4fa2-be6e-3f0d0190a5f4",
   "metadata": {},
   "outputs": [
    {
     "data": {
      "text/plain": [
       "1115394"
      ]
     },
     "execution_count": 7,
     "metadata": {},
     "output_type": "execute_result"
    }
   ],
   "source": [
    "len(text)"
   ]
  },
  {
   "cell_type": "code",
   "execution_count": 8,
   "id": "7d902d4b-5623-4d0c-ae5b-4e53b2c56d53",
   "metadata": {},
   "outputs": [
    {
     "name": "stdout",
     "output_type": "stream",
     "text": [
      "First Citizen:\n",
      "Before we proceed any further, hear me speak.\n",
      "\n",
      "All:\n",
      "Speak, speak.\n",
      "\n",
      "First Citizen:\n",
      "You are all resolved rather to die than to famish?\n",
      "\n",
      "All:\n",
      "Resolved. resolved.\n",
      "\n",
      "First Citizen:\n",
      "First, you know Caius Marcius is chief enemy to the people.\n",
      "\n",
      "All:\n",
      "We know't, we know't.\n",
      "\n",
      "First Citizen:\n",
      "Let us kill him, and we'll have corn at our own price.\n",
      "Is't a verdict?\n",
      "\n",
      "All:\n",
      "No more talking on't; let it be done: away, away!\n",
      "\n",
      "Second Citizen:\n",
      "One word, good citizens.\n",
      "\n",
      "First Citizen:\n",
      "We are accounted poor citizens, the patricians good.\n",
      "What authority surfeits on would relieve us: if they\n",
      "would yield us but the superfluity, while it were\n",
      "wholesome, we might guess they relieved us humanely;\n",
      "but they think we are too dear: the leanness that\n",
      "afflicts us, the object of our misery, is as an\n",
      "inventory to particularise their abundance; our\n",
      "sufferance is a gain to them Let us revenge this with\n",
      "our pikes, ere we become rakes: for the gods know I\n",
      "speak this in hunger for bread, not in thirst for revenge.\n",
      "\n",
      "\n"
     ]
    }
   ],
   "source": [
    "print(text[:1000])"
   ]
  },
  {
   "cell_type": "code",
   "execution_count": 16,
   "id": "714525b6-e7f9-4c2f-93ec-b14e56d3cbb4",
   "metadata": {},
   "outputs": [
    {
     "name": "stdout",
     "output_type": "stream",
     "text": [
      "[290, 66, 101, 102, 330, 292, 331, 111, 332, 333, 267, 283, 102, 117, 114, 275, 114, 260, 104, 101, 97, 263, 334, 309, 335, 83, 299, 260, 309, 302, 89, 336, 337, 311, 339, 265, 114, 97, 275, 263, 295, 100, 105, 340, 267, 32, 295, 102, 97, 341, 104, 343, 82, 285, 312, 344, 32, 339, 100, 302, 280, 116, 260, 121, 336, 345, 67, 97, 346, 77, 278, 99, 346, 297, 99, 104, 306, 314, 261, 101, 109, 347, 287, 284, 111, 112, 315, 335, 348, 349, 350, 349, 302, 353, 107, 105, 354, 105, 109, 260, 267, 265, 355, 39, 354, 97, 356, 99, 291, 288, 357, 317, 111, 119, 288, 331, 298, 101, 46, 10, 73, 115, 39, 258, 358, 294, 114, 100, 359, 343, 78, 360, 109, 330, 116, 97, 108, 107, 318, 103, 32, 319, 316, 361, 315, 258, 362, 98, 256, 100, 319, 101, 307, 364, 320, 364, 121, 33, 266, 83, 321, 319, 265, 282, 79, 110, 256, 119, 291, 365, 366, 265, 368, 302, 348, 337, 99, 99, 268, 110, 116, 333, 112, 111, 308, 368, 369, 112, 370, 114, 298, 105, 267, 259, 366, 344, 10, 87, 104, 357, 97, 117, 257, 291, 262, 283, 323, 371, 101, 262, 259, 111, 288, 373, 375, 356, 376, 307, 105, 314, 275, 121, 10, 373, 121, 306, 324, 286, 377, 287, 323, 284, 371, 108, 117, 262, 320, 378, 105, 108, 256, 362, 355, 272, 10, 378, 303, 285, 111, 109, 101, 350, 313, 103, 104, 258, 103, 117, 379, 380, 375, 294, 265, 286, 381, 109, 267, 101, 108, 121, 59, 10, 377, 380, 257, 318, 107, 32, 292, 310, 279, 360, 100, 101, 278, 307, 287, 315, 267, 110, 379, 257, 370, 10, 97, 382, 108, 359, 259, 376, 369, 111, 98, 106, 321, 258, 111, 314, 317, 341, 326, 320, 297, 97, 259, 267, 10, 318, 327, 279, 114, 347, 112, 278, 116, 298, 117, 108, 278, 105, 115, 256, 275, 105, 263, 97, 325, 110, 100, 267, 332, 361, 268, 114, 10, 323, 382, 326, 267, 99, 256, 297, 358, 103, 97, 328, 295, 275, 109, 32, 353, 384, 340, 297, 119, 105, 257, 10, 317, 112, 105, 107, 285, 260, 326, 256, 292, 98, 321, 111, 334, 114, 293, 285, 307, 329, 287, 322, 100, 259, 345, 73, 10, 309, 32, 257, 297, 328, 381, 110, 103, 101, 263, 329, 98, 272, 97, 365, 296, 258, 328, 257, 274, 258, 329, 384, 101, 276]\n",
      "418\n",
      "First Citizen:\n",
      "Before we proceed any further, hear me speak.\n",
      "\n",
      "All:\n",
      "Speak, speak.\n",
      "\n",
      "First Citizen:\n",
      "You are all resolved rather to die than to famish?\n",
      "\n",
      "All:\n",
      "Resolved. resolved.\n",
      "\n",
      "First Citizen:\n",
      "First, you know Caius Marcius is chief enemy to the people.\n",
      "\n",
      "All:\n",
      "We know't, we know't.\n",
      "\n",
      "First Citizen:\n",
      "Let us kill him, and we'll have corn at our own price.\n",
      "Is't a verdict?\n",
      "\n",
      "All:\n",
      "No more talking on't; let it be done: away, away!\n",
      "\n",
      "Second Citizen:\n",
      "One word, good citizens.\n",
      "\n",
      "First Citizen:\n",
      "We are accounted poor citizens, the patricians good.\n",
      "What authority surfeits on would relieve us: if they\n",
      "would yield us but the superfluity, while it were\n",
      "wholesome, we might guess they relieved us humanely;\n",
      "but they think we are too dear: the leanness that\n",
      "afflicts us, the object of our misery, is as an\n",
      "inventory to particularise their abundance; our\n",
      "sufferance is a gain to them Let us revenge this with\n",
      "our pikes, ere we become rakes: for the gods know I\n",
      "speak this in hunger for bread, not in thirst for revenge.\n",
      "\n",
      "\n"
     ]
    }
   ],
   "source": [
    "tokenizer = BPETokenizer(vocab_size=512)\n",
    "\n",
    "tokens = tokenizer.encode(text[:1000])\n",
    "rtext = tokenizer.decode(tokens)\n",
    "\n",
    "print(tokens)\n",
    "print(len(tokens))\n",
    "print(rtext)"
   ]
  },
  {
   "cell_type": "code",
   "execution_count": null,
   "id": "519c4c03-38e7-4d13-8e36-c9b75f92d964",
   "metadata": {},
   "outputs": [],
   "source": []
  }
 ],
 "metadata": {
  "kernelspec": {
   "display_name": "Python 3 (ipykernel)",
   "language": "python",
   "name": "python3"
  },
  "language_info": {
   "codemirror_mode": {
    "name": "ipython",
    "version": 3
   },
   "file_extension": ".py",
   "mimetype": "text/x-python",
   "name": "python",
   "nbconvert_exporter": "python",
   "pygments_lexer": "ipython3",
   "version": "3.13.3"
  }
 },
 "nbformat": 4,
 "nbformat_minor": 5
}
