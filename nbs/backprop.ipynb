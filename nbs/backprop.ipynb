{
 "cells": [
  {
   "cell_type": "code",
   "execution_count": 8,
   "id": "9dac41c1-8c12-430d-b2ec-e8fc9f3edcb8",
   "metadata": {},
   "outputs": [],
   "source": [
    "%load_ext autoreload\n",
    "%autoreload 2"
   ]
  },
  {
   "cell_type": "code",
   "execution_count": 54,
   "id": "28883b0a-894b-4ba1-a327-78eb106b3972",
   "metadata": {},
   "outputs": [],
   "source": [
    "import numpy as np\n",
    "import jax\n",
    "import sys"
   ]
  },
  {
   "cell_type": "code",
   "execution_count": 55,
   "id": "77f40f79-5928-4a96-a662-d79df428cd04",
   "metadata": {},
   "outputs": [],
   "source": [
    "sys.path.append('..')\n",
    "from src.tokenizer import BPETokenizer\n",
    "from src.config import DAISY_CONFIG\n",
    "from src.losses import CrossEntropyLoss as CEloss\n",
    "from src.model.params import init_params"
   ]
  },
  {
   "cell_type": "code",
   "execution_count": 56,
   "id": "f343a4b4-5b82-4ff1-bd7f-9c4da500e8d8",
   "metadata": {},
   "outputs": [],
   "source": [
    "cfg = DAISY_CONFIG\n",
    "params = init_params(jax.random.PRNGKey(42), cfg)\n",
    "data = [\n",
    "    \"The sun is bright.\",\n",
    "    \"Hello world!\",\n",
    "    \"AI is transforming the world.\",\n",
    "    \"Short\"\n",
    "]\n"
   ]
  },
  {
   "cell_type": "code",
   "execution_count": 60,
   "id": "63f4ebf6-c459-4b65-95cc-2c4c73dde397",
   "metadata": {},
   "outputs": [
    {
     "data": {
      "text/plain": [
       "Array(8.919742, dtype=float32)"
      ]
     },
     "execution_count": 60,
     "metadata": {},
     "output_type": "execute_result"
    }
   ],
   "source": [
    "loss = CrossEntropyLoss(cfg, params, data)\n",
    "loss"
   ]
  },
  {
   "cell_type": "code",
   "execution_count": 63,
   "id": "539d3c4c-f36d-4494-bf2c-b6f3543a66ef",
   "metadata": {},
   "outputs": [
    {
     "name": "stdout",
     "output_type": "stream",
     "text": [
      "<function tanh at 0x352e7ca40>\n"
     ]
    }
   ],
   "source": [
    "grad_loss = jax.grad(jnp.tanh)\n",
    "print(grad_loss)"
   ]
  },
  {
   "cell_type": "code",
   "execution_count": 77,
   "id": "6d04d25f-aae3-422f-b814-91a92aa63d4b",
   "metadata": {},
   "outputs": [],
   "source": [
    "def name():\n",
    "    return 12\n",
    "loss_fn = lambda params: CrossEntropyLoss(cfg, params, data)"
   ]
  },
  {
   "cell_type": "code",
   "execution_count": null,
   "id": "edf4e8a6-fdcc-49fc-ac8d-57b803a89c2c",
   "metadata": {},
   "outputs": [],
   "source": []
  }
 ],
 "metadata": {
  "kernelspec": {
   "display_name": "CpuEnv",
   "language": "python",
   "name": "cpuenv"
  },
  "language_info": {
   "codemirror_mode": {
    "name": "ipython",
    "version": 3
   },
   "file_extension": ".py",
   "mimetype": "text/x-python",
   "name": "python",
   "nbconvert_exporter": "python",
   "pygments_lexer": "ipython3",
   "version": "3.13.3"
  }
 },
 "nbformat": 4,
 "nbformat_minor": 5
}
