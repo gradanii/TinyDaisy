{
 "cells": [
  {
   "cell_type": "code",
   "execution_count": 1,
   "id": "28883b0a-894b-4ba1-a327-78eb106b3972",
   "metadata": {},
   "outputs": [],
   "source": [
    "import numpy as np\n",
    "import jax"
   ]
  },
  {
   "cell_type": "code",
   "execution_count": null,
   "id": "77f40f79-5928-4a96-a662-d79df428cd04",
   "metadata": {},
   "outputs": [],
   "source": []
  }
 ],
 "metadata": {
  "kernelspec": {
   "display_name": "CpuEnv",
   "language": "python",
   "name": "cpuenv"
  },
  "language_info": {
   "codemirror_mode": {
    "name": "ipython",
    "version": 3
   },
   "file_extension": ".py",
   "mimetype": "text/x-python",
   "name": "python",
   "nbconvert_exporter": "python",
   "pygments_lexer": "ipython3",
   "version": "3.13.3"
  }
 },
 "nbformat": 4,
 "nbformat_minor": 5
}
