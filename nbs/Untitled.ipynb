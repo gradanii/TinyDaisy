{
 "cells": [
  {
   "cell_type": "code",
   "execution_count": 2,
   "id": "f8347f41-9e88-499e-aa00-744e11a50d40",
   "metadata": {},
   "outputs": [],
   "source": [
    "%load_ext autoreload\n",
    "%autoreload 2"
   ]
  },
  {
   "cell_type": "code",
   "execution_count": 4,
   "id": "778aaebf-f6a8-42ca-81d3-9fade0d2f73d",
   "metadata": {},
   "outputs": [],
   "source": [
    "import sys\n",
    "sys.path.append('..')"
   ]
  },
  {
   "cell_type": "code",
   "execution_count": 5,
   "id": "69f9a2fa-9a69-4781-ba7f-f89b2dae3741",
   "metadata": {},
   "outputs": [],
   "source": [
    "from daisygrad.tensor import DaisyTensor\n",
    "from daisygrad.neural.layers import Parameter, Module, Linear, Embedding, Dropout\n",
    "import jax.numpy as jnp"
   ]
  },
  {
   "cell_type": "code",
   "execution_count": 6,
   "id": "e4b28926-d193-484e-b7f5-a0830b8aab43",
   "metadata": {},
   "outputs": [],
   "source": [
    "class RMSNorm(Module):\n",
    "    def __init__(self, features: int, eps: float = 1e-6):\n",
    "        super().__init__()\n",
    "        self.eps = eps\n",
    "        self.weight = Parameter(jnp.ones(features))\n",
    "\n",
    "    def __call__(self, x: DaisyTensor) -> DaisyTensor:\n",
    "        x_rms = (x.pow(2).mean(-1, keepdims=True) + self.eps).sqrt()\n",
    "        out = x * x_rms\n",
    "        return out * self.weight"
   ]
  },
  {
   "cell_type": "code",
   "execution_count": 7,
   "id": "7ab7d87b-941d-4c48-8801-fb66d8f6f46e",
   "metadata": {},
   "outputs": [],
   "source": [
    "def precompute_freq_cis(dim: int, seqlen: int, theta: float = 10000.0):\n",
    "    base_freqs = 1.0 / (theta ** (jnp.arange(0, dim, 2)[: (dim // 2)].astype(jnp.float32) / dim))\n",
    "    t = jnp.arange(seqlen, dtype=jnp.float32)\n",
    "    freqs = jnp.outer(t, base_freqs)\n",
    "    freqs_cis = jnp.exp(1j, freqs)\n",
    "    return freqs_cis"
   ]
  },
  {
   "cell_type": "code",
   "execution_count": 11,
   "id": "31a3ba2f-483d-41b7-be00-e03308a2b6a4",
   "metadata": {},
   "outputs": [],
   "source": [
    "def apply_rotary_emb(q: DaisyTensor, k: DaisyTensor, freqs_cis) -> DaisyTensor:\n",
    "    q_reshaped = q.reshape(q.shape[:-1] + (q.shape[-1] // 2, 2))\n",
    "    k_reshaped = k.reshape(k.shape[:-1] + (k.shape[-1] // 2, 2))\n",
    "\n",
    "    q_complex = q_reshaped[..., 0] + 1j * q_reshaped[..., 1]\n",
    "    k_complex = k_reshaped[..., 0] + 1j * k_reshaped[..., 1]\n",
    "\n",
    "    seq_len = q.shape[2]\n",
    "    broadcasted_freq_cis = freq_cis[None, None, :seq_len, :]\n",
    "\n",
    "    q_rotated_complex = q_complex * broadcasted_freq_cis\n",
    "    k_rotated_complex = k_complex * broadcasted_freq_cis\n",
    "\n",
    "    q_rotated = jnp.stack([q_rotated_complex.real, q_rotated_complex.imag], axis=-1)\n",
    "    k_rotated = jnp.stack([k_rotated_complex.real, k_rotated_complex.imag], axis=-1)\n",
    "    qr = q_rotated.reshape(q.shape)\n",
    "    kr = k_rotated.reshape(k.shape)\n",
    "\n",
    "    return qr, kr"
   ]
  },
  {
   "cell_type": "code",
   "execution_count": 14,
   "id": "72239498-30f2-4780-84ce-23d7ff5712f0",
   "metadata": {},
   "outputs": [],
   "source": [
    "class ModelConfig:\n",
    "    vocab_size = 32000\n",
    "    d_model = 768\n",
    "    n_layers = 12\n",
    "    n_heads = 12\n",
    "    d_head = 64\n",
    "    intermediate_size = 3072\n",
    "    d_latent = 32\n",
    "    d_rope_sub = 16"
   ]
  },
  {
   "cell_type": "code",
   "execution_count": 13,
   "id": "a393041a-9443-462e-a1cb-eeb2ef25373b",
   "metadata": {},
   "outputs": [],
   "source": [
    "class MLA(Module):\n",
    "    def __init__(self, config):\n",
    "        self.d_model = config.d_model\n",
    "        self.n_heads = config.n_heads\n",
    "        self.d_latent = config.d_latent\n",
    "        self.d_rope_sub = config.d_rope_sub\n",
    "        self.d_head = config.d_head\n",
    "\n",
    "        self.wq = Linear(self.d_model, self.n_heads * self.d_head)\n",
    "        self.wkv_a = Linear"
   ]
  },
  {
   "cell_type": "code",
   "execution_count": null,
   "id": "2f9cdc3f-4464-4646-970e-12d8c3fe474d",
   "metadata": {},
   "outputs": [],
   "source": []
  }
 ],
 "metadata": {
  "kernelspec": {
   "display_name": "Test Environment",
   "language": "python",
   "name": "venv"
  },
  "language_info": {
   "codemirror_mode": {
    "name": "ipython",
    "version": 3
   },
   "file_extension": ".py",
   "mimetype": "text/x-python",
   "name": "python",
   "nbconvert_exporter": "python",
   "pygments_lexer": "ipython3",
   "version": "3.13.3"
  }
 },
 "nbformat": 4,
 "nbformat_minor": 5
}
