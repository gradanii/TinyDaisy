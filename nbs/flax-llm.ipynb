{
 "cells": [
  {
   "cell_type": "code",
   "execution_count": 9,
   "id": "5a8f0b14-927c-4ae0-8089-af2c8beee0f2",
   "metadata": {},
   "outputs": [],
   "source": [
    "!pip install -Uqq flax"
   ]
  },
  {
   "cell_type": "code",
   "execution_count": 10,
   "id": "1e844190-811e-4b29-b5c6-14f4bb4063da",
   "metadata": {},
   "outputs": [],
   "source": [
    "import jax.numpy as jnp\n",
    "from jax import random\n",
    "\n",
    "\n",
    "class KeyGen:\n",
    "    def __init__(self, seed=42):\n",
    "        self.key = random.PRNGKey(seed)\n",
    "\n",
    "    def next(self):\n",
    "        self.key, subkey = random.split(self.key)\n",
    "        return subkey\n",
    "\n",
    "\n",
    "def he_init(key, d_in, d_out):\n",
    "    scale = jnp.sqrt(1 / d_in)\n",
    "    return random.normal(key, shape=(d_in, d_out)) * scale"
   ]
  },
  {
   "cell_type": "code",
   "execution_count": 12,
   "id": "56312530-f536-4b33-8652-6dd6d360914f",
   "metadata": {},
   "outputs": [],
   "source": [
    "import flax.nnx as nnx\n",
    "from src.model.model import Embedding"
   ]
  },
  {
   "cell_type": "code",
   "execution_count": 14,
   "id": "58efd851-73c6-4598-83a1-87d28ed84783",
   "metadata": {},
   "outputs": [],
   "source": [
    "kg = KeyGen(42)\n",
    "\n",
    "vec_embed = nnx.Embed(4096, 768, rngs=nnx.Rngs(0))\n",
    "pos_embed = nnx.Param(he_init(kg.next(), 4096, 768))"
   ]
  },
  {
   "cell_type": "code",
   "execution_count": null,
   "id": "2e5ff707-3023-43df-8f68-692d16e9937b",
   "metadata": {},
   "outputs": [],
   "source": [
    "import jax.nn as nn\n"
   ]
  }
 ],
 "metadata": {
  "kernelspec": {
   "display_name": "Test Environment",
   "language": "python",
   "name": "venv"
  },
  "language_info": {
   "codemirror_mode": {
    "name": "ipython",
    "version": 3
   },
   "file_extension": ".py",
   "mimetype": "text/x-python",
   "name": "python",
   "nbconvert_exporter": "python",
   "pygments_lexer": "ipython3",
   "version": "3.13.3"
  }
 },
 "nbformat": 4,
 "nbformat_minor": 5
}
