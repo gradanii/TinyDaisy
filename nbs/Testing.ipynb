{
 "cells": [
  {
   "cell_type": "code",
   "execution_count": 2,
   "id": "4f271795-4534-425e-9a0a-3fa5bf23dc97",
   "metadata": {},
   "outputs": [],
   "source": [
    "import jax.numpy as jnp\n",
    "from jax import random\n",
    "import sys\n",
    "sys.path.append('..')"
   ]
  },
  {
   "cell_type": "code",
   "execution_count": 3,
   "id": "88f66fb6-ba2e-400b-846a-b43298d615ae",
   "metadata": {},
   "outputs": [],
   "source": [
    "from daisylm.jax_core.tokenizer import BPETokenizer"
   ]
  },
  {
   "cell_type": "code",
   "execution_count": 4,
   "id": "132c844a-4016-4fa5-a319-c33b4f5725d0",
   "metadata": {},
   "outputs": [],
   "source": [
    "tokenizer = BPETokenizer()"
   ]
  },
  {
   "cell_type": "code",
   "execution_count": 27,
   "id": "f9b4e20f-0a7d-469f-b8fb-bf2f7e8b0e79",
   "metadata": {},
   "outputs": [
    {
     "data": {
      "text/plain": [
       "15"
      ]
     },
     "execution_count": 27,
     "metadata": {},
     "output_type": "execute_result"
    }
   ],
   "source": [
    "len(tokenizer.encode('The ball is red'))"
   ]
  },
  {
   "cell_type": "code",
   "execution_count": 6,
   "id": "63d4d8de-9218-41a9-9383-5538046e507e",
   "metadata": {},
   "outputs": [],
   "source": [
    "import numpy as np"
   ]
  },
  {
   "cell_type": "code",
   "execution_count": 24,
   "id": "e9d261c5-ae6e-471f-b45b-856503288617",
   "metadata": {},
   "outputs": [],
   "source": [
    "vec_matrix = np.random.randn(5000, 8).astype('int32')"
   ]
  },
  {
   "cell_type": "code",
   "execution_count": 25,
   "id": "b573f4fe-4fdb-4c89-9cc1-31fc0d3d6bbf",
   "metadata": {},
   "outputs": [
    {
     "data": {
      "text/plain": [
       "array([[ 0,  0,  0, -1,  0,  0, -1,  0],\n",
       "       [ 1,  0,  1,  1,  0,  0, -1,  1],\n",
       "       [ 0,  0,  0,  0,  1,  0,  0,  0],\n",
       "       [ 0,  0,  0,  0,  0,  0,  0,  0]], dtype=int32)"
      ]
     },
     "execution_count": 25,
     "metadata": {},
     "output_type": "execute_result"
    }
   ],
   "source": [
    "inputs = [464, 2613, 318, 2266]\n",
    "vec_matrix[inputs]"
   ]
  },
  {
   "cell_type": "code",
   "execution_count": 26,
   "id": "c9a14c48-6187-4c08-9baf-6b4bc1ff7f1e",
   "metadata": {},
   "outputs": [],
   "source": [
    "pos_matrix = np.random.randn(5000, 8).astype('int32')"
   ]
  },
  {
   "cell_type": "code",
   "execution_count": 34,
   "id": "46171d5c-bd2c-4a32-9eca-49b1111f6cbd",
   "metadata": {},
   "outputs": [],
   "source": [
    "indices = [i for i in range(4)]"
   ]
  },
  {
   "cell_type": "code",
   "execution_count": 37,
   "id": "a8288a0c-10a0-4a9b-a919-6d7a753018ff",
   "metadata": {},
   "outputs": [
    {
     "data": {
      "text/plain": [
       "array([[ 0,  0,  0,  0,  0,  1,  1,  0],\n",
       "       [ 0,  0,  0,  0,  0,  0,  0,  0],\n",
       "       [ 0,  0,  0,  0,  0,  0, -1, -1],\n",
       "       [ 0,  2,  0,  1, -1,  0,  0,  0]], dtype=int32)"
      ]
     },
     "execution_count": 37,
     "metadata": {},
     "output_type": "execute_result"
    }
   ],
   "source": [
    "pos_matrix[indices]"
   ]
  },
  {
   "cell_type": "code",
   "execution_count": 38,
   "id": "e03bfb7e-8307-4c89-ae77-501b0dec8102",
   "metadata": {},
   "outputs": [
    {
     "data": {
      "text/plain": [
       "array([[ 0,  0,  2, ...,  1,  1,  0],\n",
       "       [ 0,  0,  0, ..., -1,  0,  0],\n",
       "       [ 0, -1, -1, ...,  0, -2, -1],\n",
       "       ...,\n",
       "       [ 1,  0, -1, ...,  0,  1,  0],\n",
       "       [ 1, -1,  0, ..., -1, -1,  0],\n",
       "       [-1,  0,  0, ...,  0,  0, -2]], shape=(5000, 8), dtype=int32)"
      ]
     },
     "execution_count": 38,
     "metadata": {},
     "output_type": "execute_result"
    }
   ],
   "source": [
    "vec_matrix + pos_matrix"
   ]
  },
  {
   "cell_type": "code",
   "execution_count": null,
   "id": "d7318935-e03a-4a01-9bce-f202cbeb037d",
   "metadata": {},
   "outputs": [],
   "source": []
  }
 ],
 "metadata": {
  "kernelspec": {
   "display_name": "Test Environment",
   "language": "python",
   "name": "venv"
  },
  "language_info": {
   "codemirror_mode": {
    "name": "ipython",
    "version": 3
   },
   "file_extension": ".py",
   "mimetype": "text/x-python",
   "name": "python",
   "nbconvert_exporter": "python",
   "pygments_lexer": "ipython3",
   "version": "3.13.3"
  }
 },
 "nbformat": 4,
 "nbformat_minor": 5
}
