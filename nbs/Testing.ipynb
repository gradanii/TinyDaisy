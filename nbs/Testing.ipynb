{
 "cells": [
  {
   "cell_type": "code",
   "execution_count": 5,
   "id": "4f271795-4534-425e-9a0a-3fa5bf23dc97",
   "metadata": {},
   "outputs": [],
   "source": [
    "import jax.numpy as jnp\n",
    "from jax import random\n",
    "import sys\n",
    "sys.path.append('..')"
   ]
  },
  {
   "cell_type": "code",
   "execution_count": 6,
   "id": "5eb864d0-2157-4eea-aeec-2440d532a601",
   "metadata": {},
   "outputs": [],
   "source": [
    "from src.model.model import *\n",
    "from src.model.params import init_params\n",
    "from src.config import DAISY_CONFIG"
   ]
  },
  {
   "cell_type": "code",
   "execution_count": 7,
   "id": "a2385d8b-11c6-4d71-b909-af6b9a7b47a8",
   "metadata": {},
   "outputs": [],
   "source": [
    "cfg = DAISY_CONFIG\n",
    "params = init_params(random.PRNGKey(42), cfg)\n",
    "data = [\n",
    "    \"The sun is bright.\",\n",
    "    \"Hello world!\",\n",
    "    \"AI is transforming the world.\",\n",
    "    \"Short\"\n",
    "]"
   ]
  },
  {
   "cell_type": "code",
   "execution_count": 11,
   "id": "9c217db7-5bcc-4ef7-a697-2e4e64d399e5",
   "metadata": {},
   "outputs": [
    {
     "data": {
      "text/plain": [
       "(4096, 768)"
      ]
     },
     "execution_count": 11,
     "metadata": {},
     "output_type": "execute_result"
    }
   ],
   "source": [
    "params[\"embedding\"][\"vec_matrix\"].shape"
   ]
  },
  {
   "cell_type": "code",
   "execution_count": null,
   "id": "88f66fb6-ba2e-400b-846a-b43298d615ae",
   "metadata": {},
   "outputs": [],
   "source": []
  }
 ],
 "metadata": {
  "kernelspec": {
   "display_name": "Test Environment",
   "language": "python",
   "name": "venv"
  },
  "language_info": {
   "codemirror_mode": {
    "name": "ipython",
    "version": 3
   },
   "file_extension": ".py",
   "mimetype": "text/x-python",
   "name": "python",
   "nbconvert_exporter": "python",
   "pygments_lexer": "ipython3",
   "version": "3.13.3"
  }
 },
 "nbformat": 4,
 "nbformat_minor": 5
}
